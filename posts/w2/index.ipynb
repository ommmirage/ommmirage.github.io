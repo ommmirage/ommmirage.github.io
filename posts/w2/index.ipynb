{
  "cells": [
    {
      "cell_type": "markdown",
      "metadata": {},
      "source": [
        "---\n",
        "title: Week 2\n",
        "date: 2024-06-16\n",
        "format: html\n",
        "jupyter: python3\n",
        "---\n",
        "\n",
        "Recently, I learned that the main reason why students don't finish online courses is weak motivation, as they are not expelled if they miss deadlines. I decided to push myself to learn more intensively, but I'm afraid of burning out. I talked about this problem with my [GTP Psychologist](https://chatgpt.com/g/g-FGhasb1tZ-therapist-psychologist-non-medical-therapy), and he gave me advice on enhancing my motivation. One suggestion was to tell somebody about my progress, which is why I'm here, sharing my progress with you. :D\n",
        "\n",
        "I didn't complete the weekly plan, but it's only morning, so maybe I will. :)\n",
        "\n",
        "I've spent a lot of time building this blog, and it's still not finished. However, the cosmetics are not a big problem since there are no readers yet. Maybe the cosmetic issues will be fixed automatically with updates to Quarto and Bootstrap.\n",
        "\n",
        "I didn't find a study group this week and didn't get a response to my blog issue on the fast.ai forum.\n",
        "\n",
        "By the way, I have a [Telegram channel](https://t.me/cash900) in Russian.\n",
        "\n",
        "See you next week! ;)"
      ]
    }
  ],
  "metadata": {
    "kernelspec": {
      "display_name": "Python 3",
      "language": "python",
      "name": "python3"
    }
  },
  "nbformat": 4,
  "nbformat_minor": 4
}
