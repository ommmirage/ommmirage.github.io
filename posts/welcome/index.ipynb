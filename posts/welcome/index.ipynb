{
  "cells": [
    {
      "cell_type": "markdown",
      "metadata": {},
      "source": [
        "---\n",
        "title: Welcome to my blog!\n",
        "date: 2024-06-13\n",
        "format: html\n",
        "jupyter: python3\n",
        "---\n",
        "\n",
        "Hello, everyone!\n",
        "\n",
        "My name is Sergey, I'm from Astrakhan, Russia.\n",
        "\n",
        "Last week, I started my journey into Deep Learning with the amazing teacher Jeremy Howard. His method fits me perfectly!\n",
        "\n",
        "* He is one of the best experts in the field\n",
        "* His course is modern\n",
        "* He teaches through practice\n",
        "* He simplifies as much as possible\n",
        "* I'm supposed to create a model and improve it during the course\n",
        "* We should dig deeper and deeper\n",
        "\n",
        "To succeed in DL (Deep Learning) you don't need academic background, but you need to apply what you learn from the course to your personal project and you should always be persistent.\n",
        "\n",
        "By the end of the course you'll understand all the code that's inside fast.ai, which means you've learnt the most important best practicies used in modern DL.\n",
        "\n",
        "This is my motivation, which I wrote down on my flipchart. Btw, try to write your ideas on the flipchart, maybe you'll like it as much as I do) \n",
        "\n",
        "Although Jeremy says that I should create my project right now, I'm not really interested in computer vision, which we've learned about during the first two lessons. I'm more interested in natural language processing, which we'll learn in lesson 3, and video processing.\n",
        "\n",
        "Here is the [link to his course](https://course.fast.ai/).\n",
        "\n",
        "I also have a [telegram chanel](http://https://t.me/cash900) on russian."
      ]
    }
  ],
  "metadata": {
    "kernelspec": {
      "display_name": "Python 3",
      "language": "python",
      "name": "python3"
    }
  },
  "nbformat": 4,
  "nbformat_minor": 4
}
